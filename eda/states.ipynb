{
 "cells": [
  {
   "cell_type": "code",
   "execution_count": 3,
   "metadata": {},
   "outputs": [],
   "source": [
    "import pandas as pd"
   ]
  },
  {
   "cell_type": "code",
   "execution_count": 6,
   "metadata": {},
   "outputs": [
    {
     "data": {
      "text/html": [
       "<div>\n",
       "<style scoped>\n",
       "    .dataframe tbody tr th:only-of-type {\n",
       "        vertical-align: middle;\n",
       "    }\n",
       "\n",
       "    .dataframe tbody tr th {\n",
       "        vertical-align: top;\n",
       "    }\n",
       "\n",
       "    .dataframe thead th {\n",
       "        text-align: right;\n",
       "    }\n",
       "</style>\n",
       "<table border=\"1\" class=\"dataframe\">\n",
       "  <thead>\n",
       "    <tr style=\"text-align: right;\">\n",
       "      <th></th>\n",
       "      <th>state</th>\n",
       "      <th>Description</th>\n",
       "      <th>1929</th>\n",
       "      <th>1930</th>\n",
       "      <th>1931</th>\n",
       "      <th>1932</th>\n",
       "      <th>1933</th>\n",
       "      <th>1934</th>\n",
       "      <th>1935</th>\n",
       "      <th>1936</th>\n",
       "      <th>...</th>\n",
       "      <th>2012</th>\n",
       "      <th>2013</th>\n",
       "      <th>2014</th>\n",
       "      <th>2015</th>\n",
       "      <th>2016</th>\n",
       "      <th>2017</th>\n",
       "      <th>2018</th>\n",
       "      <th>2019</th>\n",
       "      <th>2020</th>\n",
       "      <th>2021</th>\n",
       "    </tr>\n",
       "  </thead>\n",
       "  <tbody>\n",
       "    <tr>\n",
       "      <th>3</th>\n",
       "      <td>Alabama</td>\n",
       "      <td>personal_income</td>\n",
       "      <td>843.2</td>\n",
       "      <td>697.5</td>\n",
       "      <td>583.7</td>\n",
       "      <td>421.9</td>\n",
       "      <td>435.6</td>\n",
       "      <td>556.3</td>\n",
       "      <td>586.9</td>\n",
       "      <td>683.2</td>\n",
       "      <td>...</td>\n",
       "      <td>173361.7</td>\n",
       "      <td>175185.3</td>\n",
       "      <td>181078.8</td>\n",
       "      <td>189115.4</td>\n",
       "      <td>192363.5</td>\n",
       "      <td>199336.4</td>\n",
       "      <td>207053.6</td>\n",
       "      <td>215930.4</td>\n",
       "      <td>228748.8</td>\n",
       "      <td>244975.8</td>\n",
       "    </tr>\n",
       "    <tr>\n",
       "      <th>4</th>\n",
       "      <td>Alabama</td>\n",
       "      <td>population</td>\n",
       "      <td>2644000</td>\n",
       "      <td>2647000</td>\n",
       "      <td>2649000</td>\n",
       "      <td>2653000</td>\n",
       "      <td>2661000</td>\n",
       "      <td>2685000</td>\n",
       "      <td>2719000</td>\n",
       "      <td>2743000</td>\n",
       "      <td>...</td>\n",
       "      <td>4839261.0</td>\n",
       "      <td>4864399.0</td>\n",
       "      <td>4886793.0</td>\n",
       "      <td>4908162.0</td>\n",
       "      <td>4930595.0</td>\n",
       "      <td>4952202.0</td>\n",
       "      <td>4976395.0</td>\n",
       "      <td>5003418.0</td>\n",
       "      <td>5024803.0</td>\n",
       "      <td>5039877.0</td>\n",
       "    </tr>\n",
       "    <tr>\n",
       "      <th>5</th>\n",
       "      <td>Alabama</td>\n",
       "      <td>pipc</td>\n",
       "      <td>319</td>\n",
       "      <td>263</td>\n",
       "      <td>220</td>\n",
       "      <td>159</td>\n",
       "      <td>164</td>\n",
       "      <td>207</td>\n",
       "      <td>216</td>\n",
       "      <td>249</td>\n",
       "      <td>...</td>\n",
       "      <td>35824.0</td>\n",
       "      <td>36014.0</td>\n",
       "      <td>37055.0</td>\n",
       "      <td>38531.0</td>\n",
       "      <td>39014.0</td>\n",
       "      <td>40252.0</td>\n",
       "      <td>41607.0</td>\n",
       "      <td>43157.0</td>\n",
       "      <td>45524.0</td>\n",
       "      <td>48608.0</td>\n",
       "    </tr>\n",
       "    <tr>\n",
       "      <th>6</th>\n",
       "      <td>Alaska *</td>\n",
       "      <td>personal_income</td>\n",
       "      <td>(NA)</td>\n",
       "      <td>(NA)</td>\n",
       "      <td>(NA)</td>\n",
       "      <td>(NA)</td>\n",
       "      <td>(NA)</td>\n",
       "      <td>(NA)</td>\n",
       "      <td>(NA)</td>\n",
       "      <td>(NA)</td>\n",
       "      <td>...</td>\n",
       "      <td>39266.0</td>\n",
       "      <td>38978.0</td>\n",
       "      <td>41210.0</td>\n",
       "      <td>42555.1</td>\n",
       "      <td>41837.4</td>\n",
       "      <td>42497.1</td>\n",
       "      <td>44102.7</td>\n",
       "      <td>45293.9</td>\n",
       "      <td>46430.3</td>\n",
       "      <td>49190.3</td>\n",
       "    </tr>\n",
       "    <tr>\n",
       "      <th>7</th>\n",
       "      <td>Alaska *</td>\n",
       "      <td>population</td>\n",
       "      <td>(NA)</td>\n",
       "      <td>(NA)</td>\n",
       "      <td>(NA)</td>\n",
       "      <td>(NA)</td>\n",
       "      <td>(NA)</td>\n",
       "      <td>(NA)</td>\n",
       "      <td>(NA)</td>\n",
       "      <td>(NA)</td>\n",
       "      <td>...</td>\n",
       "      <td>731106.0</td>\n",
       "      <td>738057.0</td>\n",
       "      <td>737638.0</td>\n",
       "      <td>739127.0</td>\n",
       "      <td>743410.0</td>\n",
       "      <td>741949.0</td>\n",
       "      <td>737717.0</td>\n",
       "      <td>734823.0</td>\n",
       "      <td>732441.0</td>\n",
       "      <td>732673.0</td>\n",
       "    </tr>\n",
       "  </tbody>\n",
       "</table>\n",
       "<p>5 rows × 95 columns</p>\n",
       "</div>"
      ],
      "text/plain": [
       "      state      Description     1929     1930     1931     1932     1933  \\\n",
       "3   Alabama  personal_income    843.2    697.5    583.7    421.9    435.6   \n",
       "4   Alabama       population  2644000  2647000  2649000  2653000  2661000   \n",
       "5   Alabama             pipc      319      263      220      159      164   \n",
       "6  Alaska *  personal_income     (NA)     (NA)     (NA)     (NA)     (NA)   \n",
       "7  Alaska *       population     (NA)     (NA)     (NA)     (NA)     (NA)   \n",
       "\n",
       "      1934     1935     1936  ...       2012       2013       2014       2015  \\\n",
       "3    556.3    586.9    683.2  ...   173361.7   175185.3   181078.8   189115.4   \n",
       "4  2685000  2719000  2743000  ...  4839261.0  4864399.0  4886793.0  4908162.0   \n",
       "5      207      216      249  ...    35824.0    36014.0    37055.0    38531.0   \n",
       "6     (NA)     (NA)     (NA)  ...    39266.0    38978.0    41210.0    42555.1   \n",
       "7     (NA)     (NA)     (NA)  ...   731106.0   738057.0   737638.0   739127.0   \n",
       "\n",
       "        2016       2017       2018       2019       2020       2021  \n",
       "3   192363.5   199336.4   207053.6   215930.4   228748.8   244975.8  \n",
       "4  4930595.0  4952202.0  4976395.0  5003418.0  5024803.0  5039877.0  \n",
       "5    39014.0    40252.0    41607.0    43157.0    45524.0    48608.0  \n",
       "6    41837.4    42497.1    44102.7    45293.9    46430.3    49190.3  \n",
       "7   743410.0   741949.0   737717.0   734823.0   732441.0   732673.0  \n",
       "\n",
       "[5 rows x 95 columns]"
      ]
     },
     "execution_count": 6,
     "metadata": {},
     "output_type": "execute_result"
    }
   ],
   "source": [
    "raw_states_df = pd.read_csv('../data/states.csv', skiprows=range(4))\n",
    "\n",
    "# Filters\n",
    "raw_states_df.dropna(subset=['GeoName', 'Description'], inplace=True)\n",
    "raw_states_df = raw_states_df[raw_states_df.GeoName != 'United States']\n",
    "\n",
    "# Drop Columns\n",
    "raw_states_df.drop(['GeoFips', 'LineCode'], axis=1, inplace=True)\n",
    "\n",
    "# Renaming\n",
    "raw_states_df.rename(columns={'GeoName': 'state'}, inplace=True)\n",
    "raw_states_df.Description.replace({\n",
    "    'Personal income (millions of dollars)': 'personal_income',\n",
    "    'Population (persons) 1/': 'population',\n",
    "    'Per capita personal income (dollars) 2/': 'pipc'\n",
    "}, inplace=True)\n",
    "\n",
    "raw_states_df.head()"
   ]
  },
  {
   "cell_type": "code",
   "execution_count": 8,
   "metadata": {},
   "outputs": [
    {
     "data": {
      "text/html": [
       "<div>\n",
       "<style scoped>\n",
       "    .dataframe tbody tr th:only-of-type {\n",
       "        vertical-align: middle;\n",
       "    }\n",
       "\n",
       "    .dataframe tbody tr th {\n",
       "        vertical-align: top;\n",
       "    }\n",
       "\n",
       "    .dataframe thead th {\n",
       "        text-align: right;\n",
       "    }\n",
       "</style>\n",
       "<table border=\"1\" class=\"dataframe\">\n",
       "  <thead>\n",
       "    <tr style=\"text-align: right;\">\n",
       "      <th>Description</th>\n",
       "      <th>state</th>\n",
       "      <th>year</th>\n",
       "      <th>personal_income</th>\n",
       "      <th>pipc</th>\n",
       "      <th>population</th>\n",
       "    </tr>\n",
       "  </thead>\n",
       "  <tbody>\n",
       "    <tr>\n",
       "      <th>0</th>\n",
       "      <td>Alabama</td>\n",
       "      <td>1929</td>\n",
       "      <td>843.200012</td>\n",
       "      <td>319.0</td>\n",
       "      <td>2644000.0</td>\n",
       "    </tr>\n",
       "    <tr>\n",
       "      <th>1</th>\n",
       "      <td>Alabama</td>\n",
       "      <td>1930</td>\n",
       "      <td>697.500000</td>\n",
       "      <td>263.0</td>\n",
       "      <td>2647000.0</td>\n",
       "    </tr>\n",
       "    <tr>\n",
       "      <th>2</th>\n",
       "      <td>Alabama</td>\n",
       "      <td>1931</td>\n",
       "      <td>583.700012</td>\n",
       "      <td>220.0</td>\n",
       "      <td>2649000.0</td>\n",
       "    </tr>\n",
       "    <tr>\n",
       "      <th>3</th>\n",
       "      <td>Alabama</td>\n",
       "      <td>1932</td>\n",
       "      <td>421.899994</td>\n",
       "      <td>159.0</td>\n",
       "      <td>2653000.0</td>\n",
       "    </tr>\n",
       "    <tr>\n",
       "      <th>4</th>\n",
       "      <td>Alabama</td>\n",
       "      <td>1933</td>\n",
       "      <td>435.600006</td>\n",
       "      <td>164.0</td>\n",
       "      <td>2661000.0</td>\n",
       "    </tr>\n",
       "  </tbody>\n",
       "</table>\n",
       "</div>"
      ],
      "text/plain": [
       "Description    state  year  personal_income   pipc  population\n",
       "0            Alabama  1929       843.200012  319.0   2644000.0\n",
       "1            Alabama  1930       697.500000  263.0   2647000.0\n",
       "2            Alabama  1931       583.700012  220.0   2649000.0\n",
       "3            Alabama  1932       421.899994  159.0   2653000.0\n",
       "4            Alabama  1933       435.600006  164.0   2661000.0"
      ]
     },
     "execution_count": 8,
     "metadata": {},
     "output_type": "execute_result"
    }
   ],
   "source": [
    "# Pivot\n",
    "pivoted_states_df = raw_states_df.set_index(['state', 'Description']).stack().unstack(1)\n",
    "pivoted_states_df.reset_index(inplace=True)\n",
    "\n",
    "# Renaming\n",
    "pivoted_states_df.rename(columns={'level_1': 'year'}, inplace=True)\n",
    "\n",
    "# Datatypes\n",
    "pivoted_states_df.year = pd.to_numeric(pivoted_states_df.year, errors='coerce', downcast='integer')\n",
    "pivoted_states_df.personal_income = pd.to_numeric(pivoted_states_df.personal_income, errors='coerce', downcast='float')\n",
    "pivoted_states_df.pipc = pd.to_numeric(pivoted_states_df.pipc, errors='coerce', downcast='float')\n",
    "pivoted_states_df.population = pd.to_numeric(pivoted_states_df.population, errors='coerce', downcast='integer')\n",
    "\n",
    "# Cleaning\n",
    "pivoted_states_df.state.replace({'Alaska *': 'Alaska'}, inplace=True)\n",
    "\n",
    "pivoted_states_df.head()"
   ]
  },
  {
   "cell_type": "code",
   "execution_count": 9,
   "metadata": {},
   "outputs": [
    {
     "data": {
      "text/plain": [
       "array(['Alabama', 'Alaska', 'Arizona', 'Arkansas', 'California',\n",
       "       'Colorado', 'Connecticut', 'Delaware', 'District of Columbia',\n",
       "       'Far West', 'Florida', 'Georgia', 'Great Lakes', 'Hawaii *',\n",
       "       'Idaho', 'Illinois', 'Indiana', 'Iowa', 'Kansas', 'Kentucky',\n",
       "       'Louisiana', 'Maine', 'Maryland', 'Massachusetts', 'Michigan',\n",
       "       'Mideast', 'Minnesota', 'Mississippi', 'Missouri', 'Montana',\n",
       "       'Nebraska', 'Nevada', 'New England', 'New Hampshire', 'New Jersey',\n",
       "       'New Mexico', 'New York', 'North Carolina', 'North Dakota', 'Ohio',\n",
       "       'Oklahoma', 'Oregon', 'Pennsylvania', 'Plains', 'Rhode Island',\n",
       "       'Rocky Mountain', 'South Carolina', 'South Dakota', 'Southeast',\n",
       "       'Southwest', 'Tennessee', 'Texas', 'Utah', 'Vermont', 'Virginia',\n",
       "       'Washington', 'West Virginia', 'Wisconsin', 'Wyoming'],\n",
       "      dtype=object)"
      ]
     },
     "execution_count": 9,
     "metadata": {},
     "output_type": "execute_result"
    }
   ],
   "source": [
    "pivoted_states_df.state.unique()"
   ]
  },
  {
   "cell_type": "code",
   "execution_count": 11,
   "metadata": {},
   "outputs": [
    {
     "data": {
      "text/plain": [
       "Description\n",
       "state               object\n",
       "year                 int16\n",
       "personal_income    float32\n",
       "pipc               float32\n",
       "population         float64\n",
       "dtype: object"
      ]
     },
     "execution_count": 11,
     "metadata": {},
     "output_type": "execute_result"
    }
   ],
   "source": [
    "pivoted_states_df.dtypes"
   ]
  },
  {
   "cell_type": "code",
   "execution_count": 52,
   "metadata": {},
   "outputs": [],
   "source": [
    "from nba_api.stats.static import teams"
   ]
  },
  {
   "cell_type": "code",
   "execution_count": 54,
   "metadata": {},
   "outputs": [],
   "source": [
    "available_teams = teams.get_teams()"
   ]
  },
  {
   "cell_type": "code",
   "execution_count": 56,
   "metadata": {},
   "outputs": [],
   "source": [
    "team_states = [t['state'] for t in available_teams]"
   ]
  },
  {
   "cell_type": "code",
   "execution_count": 57,
   "metadata": {},
   "outputs": [],
   "source": [
    "raw_states = pivoted_states_df.state.unique()"
   ]
  },
  {
   "cell_type": "code",
   "execution_count": 58,
   "metadata": {},
   "outputs": [
    {
     "data": {
      "text/plain": [
       "['Atlanta', 'Ontario']"
      ]
     },
     "execution_count": 58,
     "metadata": {},
     "output_type": "execute_result"
    }
   ],
   "source": [
    "[x for x in team_states if x not in raw_states]"
   ]
  },
  {
   "cell_type": "markdown",
   "metadata": {},
   "source": [
    "Hay buen match entre ambas fuentes de datos. Los únicos dos casos en los que no hay match son:\n",
    "1. Ontario porque no es un estados de la unión americana\n",
    "2. Altanta porque no es un estado, hay que modificarlo en el proceso de limpieza de la tabla de equipos."
   ]
  },
  {
   "cell_type": "code",
   "execution_count": null,
   "metadata": {},
   "outputs": [],
   "source": []
  }
 ],
 "metadata": {
  "kernelspec": {
   "display_name": "Python 3.7.6 ('base')",
   "language": "python",
   "name": "python3"
  },
  "language_info": {
   "codemirror_mode": {
    "name": "ipython",
    "version": 3
   },
   "file_extension": ".py",
   "mimetype": "text/x-python",
   "name": "python",
   "nbconvert_exporter": "python",
   "pygments_lexer": "ipython3",
   "version": "3.7.6"
  },
  "orig_nbformat": 4,
  "vscode": {
   "interpreter": {
    "hash": "c92b5f39464174b4c0c2121ba7a72139a5a30ece93b2c0ccab75ba1db3e2142e"
   }
  }
 },
 "nbformat": 4,
 "nbformat_minor": 2
}
